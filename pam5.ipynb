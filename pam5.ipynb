{
 "cells": [
  {
   "cell_type": "code",
   "execution_count": 2,
   "metadata": {},
   "outputs": [
    {
     "name": "stdout",
     "output_type": "stream",
     "text": [
      "8\n",
      "22\n"
     ]
    }
   ],
   "source": [
    "My_tuple = (1,2,['3', 4, 5],[6,[7,(8)]])\n"
   ]
  },
  {
   "cell_type": "code",
   "execution_count": null,
   "metadata": {},
   "outputs": [],
   "source": [
    "first_tuple = (1, 2, 3, 4, 5, 6, 7, 8, 9)\n",
    "\n",
    "second_tuple = (2,4,5,8,9,10,15,2)\n",
    "\n",
    "both_tuples = first_tuple + second_tuple\n",
    "print(both_tuples)\n",
    "my_list = list(both_tuples)\n",
    "print(my_list)\n",
    "my_list.pop()\n",
    "print(my_list)\n",
    "my_list = sorted(my_list)\n",
    "print(my_list)\n",
    "both_tuples = tuple(my_list)\n",
    "print(both_tuples)\n",
    "print(both_tuples.count(2))\n",
    "print(max(both_tuples))\n",
    "print(both_tuples[-1])"
   ]
  },
  {
   "cell_type": "code",
   "execution_count": null,
   "metadata": {},
   "outputs": [],
   "source": [
    "numbers = list(range(1,21) )\n",
    "print(numbers)\n",
    "# take numbers divisible by 3\n",
    "divisble_by_3 = []\n",
    "for number in numbers:\n",
    "    if number % 3 == 0:\n",
    "        divisble_by_3.append(number)\n",
    "\n",
    "print(divisble_by_3)\n",
    "divisble_by_3 = [number for number in numbers if number % 3 == 0]\n",
    "print(divisble_by_3)\n",
    "divisble_by_3_squared = [number**2 for number in numbers if number % 3 == 0]\n",
    "print(divisble_by_3_squared)\n",
    "\n",
    "numbers_multiply_2 = [number * 2 for number in numbers]\n",
    "print(numbers_multiply_2)"
   ]
  },
  {
   "cell_type": "code",
   "execution_count": null,
   "metadata": {},
   "outputs": [],
   "source": [
    "me = {'name': 'Tomas', 'age': 27, 'city': 'Vilnius', 'hobbies': ['coding', 'reading', 'gaming']}\n",
    "# me['age'] = 29\n",
    "print(me)\n",
    "me.update( {'age': 28, 'city': 'Kaunas',} )\n",
    "print(me)"
   ]
  },
  {
   "cell_type": "code",
   "execution_count": 7,
   "metadata": {},
   "outputs": [
    {
     "name": "stdout",
     "output_type": "stream",
     "text": [
      "ford\n",
      "3\n"
     ]
    },
    {
     "ename": "",
     "evalue": "",
     "output_type": "error",
     "traceback": [
      "\u001b[1;31mThe Kernel crashed while executing code in the the current cell or a previous cell. Please review the code in the cell(s) to identify a possible cause of the failure. Click <a href='https://aka.ms/vscodeJupyterKernelCrash'>here</a> for more info. View Jupyter <a href='command:jupyter.viewOutput'>log</a> for further details."
     ]
    }
   ],
   "source": [
    "car = {\"brand\":\"ford\",\n",
    "       \"model\": \"mustang\",\n",
    "       \"year\": 1964\n",
    "       }\n",
    "print(car['brand'])\n",
    "print(len(car))\n",
    "\n",
    "\n"
   ]
  },
  {
   "cell_type": "code",
   "execution_count": 2,
   "metadata": {},
   "outputs": [
    {
     "name": "stdout",
     "output_type": "stream",
     "text": [
      "6\n"
     ]
    }
   ],
   "source": [
    "skaicius1 = 1\n",
    "skaicius2 = 5\n",
    "suma = skaicius1 + skaicius2\n",
    "print(suma)"
   ]
  }
 ],
 "metadata": {
  "kernelspec": {
   "display_name": "Python 3",
   "language": "python",
   "name": "python3"
  },
  "language_info": {
   "codemirror_mode": {
    "name": "ipython",
    "version": 3
   },
   "file_extension": ".py",
   "mimetype": "text/x-python",
   "name": "python",
   "nbconvert_exporter": "python",
   "pygments_lexer": "ipython3",
   "version": "3.9.13"
  },
  "orig_nbformat": 4
 },
 "nbformat": 4,
 "nbformat_minor": 2
}
