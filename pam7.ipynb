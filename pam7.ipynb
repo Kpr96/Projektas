{
 "cells": [
  {
   "cell_type": "code",
   "execution_count": 17,
   "metadata": {},
   "outputs": [],
   "source": [
    "import os"
   ]
  },
  {
   "cell_type": "code",
   "execution_count": 60,
   "metadata": {},
   "outputs": [
    {
     "name": "stdout",
     "output_type": "stream",
     "text": [
      "\n"
     ]
    }
   ],
   "source": [
    "os.getcwd\n",
    "os.chdir('c:\\\\Users\\\\kipra\\\\Desktop\\\\New folder\\\\Projektas')\n",
    "with open('text.txt', 'r') as fr:\n",
    "    text = fr.read()\n",
    "print(text)\n",
    "\n",
    "\n",
    "\n"
   ]
  },
  {
   "cell_type": "code",
   "execution_count": null,
   "metadata": {},
   "outputs": [],
   "source": [
    "\n",
    "\n"
   ]
  },
  {
   "cell_type": "code",
   "execution_count": null,
   "metadata": {},
   "outputs": [],
   "source": [
    "\n",
    "os.getcwd()\n",
    "os.chdir('c:\\\\Users\\\\kipra\\\\Desktop\\\\New folder\\\\Projektas')\n",
    "with open('text.txt', 'r') as fr:\n",
    "    text = fr.read()\n",
    "print(text)"
   ]
  },
  {
   "cell_type": "code",
   "execution_count": null,
   "metadata": {},
   "outputs": [],
   "source": [
    "os.removedirs('./folder_1/folder_2')\n",
    "\n"
   ]
  },
  {
   "cell_type": "code",
   "execution_count": null,
   "metadata": {},
   "outputs": [],
   "source": [
    "print(os.getcwd())\n",
    "os.chdir('../../../Desktop/')\n",
    "print(os.getcwd())\n",
    "os.makedirs('folder_1/folder_2')"
   ]
  },
  {
   "cell_type": "code",
   "execution_count": 6,
   "metadata": {},
   "outputs": [
    {
     "data": {
      "text/plain": [
       "['1',\n",
       " '2',\n",
       " 'anaconda3',\n",
       " 'AnyDesk.exe',\n",
       " 'codewars.png',\n",
       " 'desktop.ini',\n",
       " 'Excel.lnk',\n",
       " 'header.jpg',\n",
       " 'ideaIC-2022.2.2.exe',\n",
       " 'jdk-19_windows-x64_bin.exe',\n",
       " 'jdk-19_windows-x64_bin.zip',\n",
       " 'Microsoft Edge.lnk',\n",
       " 'New folder',\n",
       " 'Outlook.lnk',\n",
       " 'PowerPoint.lnk',\n",
       " 'Python 3.9 - Shortcut.lnk',\n",
       " 'The Sims™ 4.url',\n",
       " 'Visual Studio Code.lnk',\n",
       " 'Word.lnk',\n",
       " 'Zoom.lnk']"
      ]
     },
     "execution_count": 6,
     "metadata": {},
     "output_type": "execute_result"
    }
   ],
   "source": [
    "os.listdir()"
   ]
  },
  {
   "cell_type": "code",
   "execution_count": null,
   "metadata": {},
   "outputs": [],
   "source": [
    "import shutil\n",
    "shutil.rmtree('folder_1')"
   ]
  }
 ],
 "metadata": {
  "kernelspec": {
   "display_name": "Python 3",
   "language": "python",
   "name": "python3"
  },
  "language_info": {
   "codemirror_mode": {
    "name": "ipython",
    "version": 3
   },
   "file_extension": ".py",
   "mimetype": "text/x-python",
   "name": "python",
   "nbconvert_exporter": "python",
   "pygments_lexer": "ipython3",
   "version": "3.9.13"
  },
  "orig_nbformat": 4
 },
 "nbformat": 4,
 "nbformat_minor": 2
}
