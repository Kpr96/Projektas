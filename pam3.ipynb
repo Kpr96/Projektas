{
 "cells": [
  {
   "cell_type": "code",
   "execution_count": 24,
   "metadata": {},
   "outputs": [
    {
     "name": "stdout",
     "output_type": "stream",
     "text": [
      "4\n",
      "['jonas', 'domas', 'ignas', 'saulius']\n",
      "['vilnius', 'kaunas', 'alytus']\n",
      "[['jonas', 'domas', 'ignas', 'saulius'], ['vilnius', 'kaunas', 'alytus']]\n",
      "['vilnius', 'kaunas', 'alytus']\n",
      "[['jonas', 'domas', 'ignas', 'saulius']]\n"
     ]
    }
   ],
   "source": [
    "# names = ['jonas', 'domas', 'ignas']\n",
    "# names.append('saulius')\n",
    "# print(len(names))\n",
    "# print(names)\n",
    "# 'domas' in names\n",
    "\n",
    "# cities = ['vilnius', 'kaunas', 'alytus']\n",
    "# print(cities)\n",
    "# combined_list = [names] + [cities]\n",
    "# print(combined_list)\n",
    "# print(combined_list.pop())\n",
    "# print(combined_list)\n",
    "\n",
    "\n",
    "\n",
    "\n",
    "\n",
    "\n"
   ]
  },
  {
   "cell_type": "code",
   "execution_count": 1,
   "metadata": {},
   "outputs": [
    {
     "name": "stdout",
     "output_type": "stream",
     "text": [
      "9\n"
     ]
    }
   ],
   "source": [
    "numbers = [3, 7, 1, 9, 4, 2]\n",
    "max_number = max(numbers)\n",
    "print(max_number)"
   ]
  },
  {
   "cell_type": "code",
   "execution_count": 6,
   "metadata": {},
   "outputs": [
    {
     "name": "stdout",
     "output_type": "stream",
     "text": [
      "True\n"
     ]
    }
   ],
   "source": [
    "fruits = ['apple', 'banana', 'orange', 'grapes', 'pineapple',]\n",
    "input()\n",
    "print('apple' in fruits)"
   ]
  },
  {
   "cell_type": "code",
   "execution_count": 3,
   "metadata": {},
   "outputs": [
    {
     "data": {
      "text/plain": [
       "'97'"
      ]
     },
     "execution_count": 3,
     "metadata": {},
     "output_type": "execute_result"
    }
   ],
   "source": [
    "list_1 = [11, 23, 97, 10, 55, 46, 16, 72, 3, 72, 17, 29, 21, 48, 50, 4, 73, 44, 18, 30, 53, 95, 15, 69, 86, 39, 6, 89, 89, 2, 26, 54, 27, 39, 3, 69, 21,\n",
    "           62, 99, 11, 49, 58, 78, 53, 46, 50, 39, 100, 77, 41, 7, 10, 53, 33, 74, 78, 20, 41, 65, 9, 84, 11, 90, 65, 43, 78, 15, 49, 87, 48, 84, 31, 17,\n",
    "             17, 60, 47, 71, 7, 23, 56, 74, 45, 74, 17, 27, 52, 80, 26, 93, 14, 76, 28, 99, 3, 61, 67, 71, 24, 77, 74]\n",
    "input()\n",
    "selected_numbers = 97"
   ]
  }
 ],
 "metadata": {
  "kernelspec": {
   "display_name": "Python 3",
   "language": "python",
   "name": "python3"
  },
  "language_info": {
   "codemirror_mode": {
    "name": "ipython",
    "version": 3
   },
   "file_extension": ".py",
   "mimetype": "text/x-python",
   "name": "python",
   "nbconvert_exporter": "python",
   "pygments_lexer": "ipython3",
   "version": "3.9.13"
  },
  "orig_nbformat": 4
 },
 "nbformat": 4,
 "nbformat_minor": 2
}
