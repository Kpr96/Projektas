{
 "cells": [
  {
   "cell_type": "code",
   "execution_count": 24,
   "metadata": {},
   "outputs": [
    {
     "name": "stdout",
     "output_type": "stream",
     "text": [
      "4\n",
      "['jonas', 'domas', 'ignas', 'saulius']\n",
      "['vilnius', 'kaunas', 'alytus']\n",
      "[['jonas', 'domas', 'ignas', 'saulius'], ['vilnius', 'kaunas', 'alytus']]\n",
      "['vilnius', 'kaunas', 'alytus']\n",
      "[['jonas', 'domas', 'ignas', 'saulius']]\n"
     ]
    }
   ],
   "source": [
    "names = ['jonas', 'domas', 'ignas']\n",
    "names.append('saulius')\n",
    "print(len(names))\n",
    "print(names)\n",
    "'domas' in names\n",
    "\n",
    "cities = ['vilnius', 'kaunas', 'alytus']\n",
    "print(cities)\n",
    "combined_list = [names] + [cities]\n",
    "print(combined_list)\n",
    "print(combined_list.pop())\n",
    "print(combined_list)\n",
    "\n",
    "\n",
    "\n",
    "\n",
    "\n",
    "\n"
   ]
  }
 ],
 "metadata": {
  "kernelspec": {
   "display_name": "Python 3",
   "language": "python",
   "name": "python3"
  },
  "language_info": {
   "codemirror_mode": {
    "name": "ipython",
    "version": 3
   },
   "file_extension": ".py",
   "mimetype": "text/x-python",
   "name": "python",
   "nbconvert_exporter": "python",
   "pygments_lexer": "ipython3",
   "version": "3.9.13"
  },
  "orig_nbformat": 4
 },
 "nbformat": 4,
 "nbformat_minor": 2
}
