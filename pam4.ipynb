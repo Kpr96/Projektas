{
 "cells": [
  {
   "cell_type": "code",
   "execution_count": 11,
   "metadata": {},
   "outputs": [
    {
     "name": "stdout",
     "output_type": "stream",
     "text": [
      "1\n",
      "2\n",
      "3\n",
      "4\n",
      "5\n",
      "6\n",
      "7\n",
      "8\n",
      "9\n",
      "10\n"
     ]
    }
   ],
   "source": [
    "# for number in range(1,11):\n",
    "#     print(number)\n",
    "    \n",
    "\n",
    "\n",
    "\n"
   ]
  },
  {
   "cell_type": "code",
   "execution_count": 18,
   "metadata": {},
   "outputs": [],
   "source": [
    "# suma = 0\n",
    "# for number in range(1,51):\n",
    "#     suma += number\n",
    "#     print(suma)"
   ]
  },
  {
   "cell_type": "code",
   "execution_count": 21,
   "metadata": {},
   "outputs": [
    {
     "name": "stdout",
     "output_type": "stream",
     "text": [
      "1\n",
      "1\n",
      "2\n",
      "2\n",
      "3\n",
      "4\n",
      "4\n",
      "5\n",
      "5\n",
      "6\n",
      "7\n",
      "7\n",
      "8\n",
      "8\n",
      "9\n",
      "10\n",
      "10\n",
      "11\n",
      "11\n",
      "12\n",
      "13\n",
      "13\n",
      "14\n",
      "14\n",
      "15\n",
      "16\n",
      "16\n",
      "17\n",
      "17\n",
      "18\n",
      "19\n",
      "19\n",
      "20\n",
      "20\n"
     ]
    }
   ],
   "source": [
    "for numbers in range(1,21):\n",
    "    print(numbers)\n",
    "    if numbers % 3 :\n",
    "        print(numbers)\n"
   ]
  },
  {
   "cell_type": "code",
   "execution_count": 1,
   "metadata": {},
   "outputs": [
    {
     "name": "stdout",
     "output_type": "stream",
     "text": [
      "[['Pirmadienis', 12], ['Pirmadienis', 13], ['Pirmadienis', 14], ['Pirmadienis', 15], ['Pirmadienis', 16], ['Pirmadienis', 17], ['Treciadienis', 12], ['Treciadienis', 13], ['Treciadienis', 14], ['Treciadienis', 15], ['Treciadienis', 16], ['Treciadienis', 17], ['Penktadienis', 12], ['Penktadienis', 13], ['Penktadienis', 14], ['Penktadienis', 15], ['Penktadienis', 16], ['Penktadienis', 17]]\n"
     ]
    }
   ],
   "source": [
    "dienos = ['Pirmadienis', 'Antradienis', 'Treciadienis','Ketvirtadienis', 'Penktadienis', 'Sestadienis' , 'Sekmadienis']\n",
    "valandos = [10, 11, 12, 13, 14, 15, 16, 17, 18, 19]\n",
    "\n",
    "kombinacijos = []\n",
    "\n",
    "tinkamos_dienos = ['Pirmadienis', 'Treciadienis', 'Penktadienis']\n",
    "tinkamos_valandos = list(range(12, 18))\n",
    "\n",
    "for diena in dienos:\n",
    "    # print(diena)\n",
    "    if diena in tinkamos_dienos:\n",
    "        for valanda in valandos:\n",
    "            if valanda in tinkamos_valandos:\n",
    "                kombinacijos.append( [diena, valanda] )\n",
    "                # print('antrojo ciklo pabaiga')\n",
    "    # print('pirmojo ciklo pabaiga')\n",
    "\n",
    "print(kombinacijos)"
   ]
  },
  {
   "cell_type": "code",
   "execution_count": 2,
   "metadata": {},
   "outputs": [
    {
     "name": "stdout",
     "output_type": "stream",
     "text": [
      "[['Pirmadienis', 10], ['Pirmadienis', 11], ['Pirmadienis', 12], ['Pirmadienis', 13], ['Pirmadienis', 14], ['Pirmadienis', 15], ['Pirmadienis', 16], ['Pirmadienis', 17], ['Pirmadienis', 18], ['Pirmadienis', 19], ['Antradienis', 10], ['Antradienis', 11], ['Antradienis', 12], ['Antradienis', 13], ['Antradienis', 14], ['Antradienis', 15], ['Antradienis', 16], ['Antradienis', 17], ['Antradienis', 18], ['Antradienis', 19], ['Treciadienis', 10], ['Treciadienis', 11], ['Treciadienis', 12], ['Treciadienis', 13], ['Treciadienis', 14], ['Treciadienis', 15], ['Treciadienis', 16], ['Treciadienis', 17], ['Treciadienis', 18], ['Treciadienis', 19], ['Ketvirtadienis', 10], ['Ketvirtadienis', 11], ['Ketvirtadienis', 12], ['Ketvirtadienis', 13], ['Ketvirtadienis', 14], ['Ketvirtadienis', 15], ['Ketvirtadienis', 16], ['Ketvirtadienis', 17], ['Ketvirtadienis', 18], ['Ketvirtadienis', 19], ['Penktadienis', 10], ['Penktadienis', 11], ['Penktadienis', 12], ['Penktadienis', 13], ['Penktadienis', 14], ['Penktadienis', 15], ['Penktadienis', 16], ['Penktadienis', 17], ['Penktadienis', 18], ['Penktadienis', 19], ['Sestadienis', 10], ['Sestadienis', 11], ['Sestadienis', 12], ['Sestadienis', 13], ['Sestadienis', 14], ['Sestadienis', 15], ['Sestadienis', 16], ['Sestadienis', 17], ['Sestadienis', 18], ['Sestadienis', 19], ['Sekmadienis', 10], ['Sekmadienis', 11], ['Sekmadienis', 12], ['Sekmadienis', 13], ['Sekmadienis', 14], ['Sekmadienis', 15], ['Sekmadienis', 16], ['Sekmadienis', 17], ['Sekmadienis', 18], ['Sekmadienis', 19]]\n"
     ]
    }
   ],
   "source": [
    "dienos = ['Pirmadienis', 'Antradienis', 'Treciadienis','Ketvirtadienis', 'Penktadienis', 'Sestadienis' , 'Sekmadienis']\n",
    "valandos = [10, 11, 12, 13, 14, 15, 16, 17, 18, 19]\n",
    "\n",
    "kombinacijos = []\n",
    "\n",
    "for diena in dienos:\n",
    "    # print(diena)\n",
    "    for valanda in valandos:\n",
    "        # print(valanda)\n",
    "        # print(diena, valanda)\n",
    "        kombinacijos.append( [diena, valanda] )\n",
    "        # print('antrojo ciklo pabaiga')\n",
    "    # print('pirmojo ciklo pabaiga')\n",
    "\n",
    "\n",
    "print(kombinacijos)"
   ]
  },
  {
   "cell_type": "code",
   "execution_count": null,
   "metadata": {},
   "outputs": [],
   "source": [
    "str_number = input(\"enter a nmber\")"
   ]
  }
 ],
 "metadata": {
  "kernelspec": {
   "display_name": "Python 3",
   "language": "python",
   "name": "python3"
  },
  "language_info": {
   "codemirror_mode": {
    "name": "ipython",
    "version": 3
   },
   "file_extension": ".py",
   "mimetype": "text/x-python",
   "name": "python",
   "nbconvert_exporter": "python",
   "pygments_lexer": "ipython3",
   "version": "3.9.13"
  },
  "orig_nbformat": 4
 },
 "nbformat": 4,
 "nbformat_minor": 2
}
