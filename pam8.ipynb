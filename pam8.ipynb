{
 "cells": [
  {
   "cell_type": "code",
   "execution_count": 2,
   "metadata": {},
   "outputs": [],
   "source": [
    "import os"
   ]
  },
  {
   "cell_type": "code",
   "execution_count": 5,
   "metadata": {},
   "outputs": [
    {
     "name": "stdout",
     "output_type": "stream",
     "text": [
      "c:\\Users\\kipra\\Desktop\n"
     ]
    }
   ],
   "source": [
    "os.getcwd()\n",
    "os.chdir('c:\\\\Users\\\\kipra\\\\Desktop')\n",
    "print(os.getcwd())\n",
    "# os.makedirs('folder_1/folder_2')"
   ]
  },
  {
   "cell_type": "code",
   "execution_count": 6,
   "metadata": {},
   "outputs": [],
   "source": [
    "os.makedirs('folder_1/folder_2')"
   ]
  },
  {
   "cell_type": "code",
   "execution_count": 8,
   "metadata": {},
   "outputs": [
    {
     "name": "stdout",
     "output_type": "stream",
     "text": [
      "well hello\n",
      "what a nice evening\n"
     ]
    }
   ],
   "source": [
    "with open('folder_1/folder_2/text.txt.txt', 'r') as fr:\n",
    "    text = fr.read()\n",
    "print(text)"
   ]
  },
  {
   "cell_type": "code",
   "execution_count": 9,
   "metadata": {},
   "outputs": [
    {
     "data": {
      "text/plain": [
       "'folder_1/folder_2/textcopy.txt'"
      ]
     },
     "execution_count": 9,
     "metadata": {},
     "output_type": "execute_result"
    }
   ],
   "source": [
    "import shutil\n",
    "shutil.copy('folder_1/folder_2/text.txt.txt', 'folder_1/folder_2/textcopy.txt')"
   ]
  },
  {
   "cell_type": "code",
   "execution_count": 10,
   "metadata": {},
   "outputs": [],
   "source": [
    "os.rename('folder_1/folder_2/textcopy.txt', 'folder_1/folder_2/textcopyrename.txt')"
   ]
  },
  {
   "cell_type": "code",
   "execution_count": 16,
   "metadata": {},
   "outputs": [
    {
     "name": "stdout",
     "output_type": "stream",
     "text": [
      "failas neegzistuoja\n"
     ]
    }
   ],
   "source": [
    "os.path.isfile('folder_1/folder_2/textcopyrename.txt') \n",
    "if os.path.isfile('folder_1/folder_2/textcopyrename.txt'):\n",
    "    print('failas egzistuoja')\n",
    "    os.remove('folder_1/folder_2/textcopyrename.txt')\n",
    "else:\n",
    "    print('failas neegzistuoja')\n",
    "\n"
   ]
  },
  {
   "cell_type": "code",
   "execution_count": 17,
   "metadata": {},
   "outputs": [],
   "source": [
    "shutil.rmtree('folder_1')"
   ]
  }
 ],
 "metadata": {
  "kernelspec": {
   "display_name": "Python 3",
   "language": "python",
   "name": "python3"
  },
  "language_info": {
   "codemirror_mode": {
    "name": "ipython",
    "version": 3
   },
   "file_extension": ".py",
   "mimetype": "text/x-python",
   "name": "python",
   "nbconvert_exporter": "python",
   "pygments_lexer": "ipython3",
   "version": "3.9.13"
  },
  "orig_nbformat": 4
 },
 "nbformat": 4,
 "nbformat_minor": 2
}
